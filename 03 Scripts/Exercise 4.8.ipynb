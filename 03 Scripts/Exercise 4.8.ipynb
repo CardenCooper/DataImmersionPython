{
 "cells": [
  {
   "cell_type": "code",
   "execution_count": 1,
   "id": "2bde98ca-a38b-44be-8414-9cf3170f575e",
   "metadata": {},
   "outputs": [],
   "source": [
    "# Import libraries\n",
    "import pandas as pd\n",
    "import numpy as np\n",
    "import os"
   ]
  },
  {
   "cell_type": "code",
   "execution_count": 2,
   "id": "98923a1a-e885-492e-b5a6-778356e178ad",
   "metadata": {},
   "outputs": [],
   "source": [
    "# data import path\n",
    "\n",
    "path  = r'C:\\Users\\Layzr\\Desktop\\School\\Data Immersion Part 4\\Achievement 4'"
   ]
  },
  {
   "cell_type": "code",
   "execution_count": 3,
   "id": "f0f7b7e4-9147-4d1f-9e98-c2426d713747",
   "metadata": {},
   "outputs": [],
   "source": [
    "ords_prods_merge = pd.read_pickle(os.path.join(path, '02 Data', 'Prepared Data', 'ords_prods_merge.pkl'))"
   ]
  },
  {
   "cell_type": "code",
   "execution_count": 4,
   "id": "cf02b5a0-c3b4-4e27-9485-2bc4573ce2d5",
   "metadata": {},
   "outputs": [
    {
     "data": {
      "text/html": [
       "<div>\n",
       "<style scoped>\n",
       "    .dataframe tbody tr th:only-of-type {\n",
       "        vertical-align: middle;\n",
       "    }\n",
       "\n",
       "    .dataframe tbody tr th {\n",
       "        vertical-align: top;\n",
       "    }\n",
       "\n",
       "    .dataframe thead tr th {\n",
       "        text-align: left;\n",
       "    }\n",
       "\n",
       "    .dataframe thead tr:last-of-type th {\n",
       "        text-align: right;\n",
       "    }\n",
       "</style>\n",
       "<table border=\"1\" class=\"dataframe\">\n",
       "  <thead>\n",
       "    <tr>\n",
       "      <th></th>\n",
       "      <th>customer_order_count</th>\n",
       "    </tr>\n",
       "    <tr>\n",
       "      <th></th>\n",
       "      <th>mean</th>\n",
       "    </tr>\n",
       "    <tr>\n",
       "      <th>department_id</th>\n",
       "      <th></th>\n",
       "    </tr>\n",
       "  </thead>\n",
       "  <tbody>\n",
       "    <tr>\n",
       "      <th>1</th>\n",
       "      <td>15.457838</td>\n",
       "    </tr>\n",
       "    <tr>\n",
       "      <th>2</th>\n",
       "      <td>17.277920</td>\n",
       "    </tr>\n",
       "    <tr>\n",
       "      <th>3</th>\n",
       "      <td>17.170395</td>\n",
       "    </tr>\n",
       "    <tr>\n",
       "      <th>4</th>\n",
       "      <td>17.811403</td>\n",
       "    </tr>\n",
       "    <tr>\n",
       "      <th>5</th>\n",
       "      <td>15.215751</td>\n",
       "    </tr>\n",
       "    <tr>\n",
       "      <th>6</th>\n",
       "      <td>16.439806</td>\n",
       "    </tr>\n",
       "    <tr>\n",
       "      <th>7</th>\n",
       "      <td>17.225802</td>\n",
       "    </tr>\n",
       "    <tr>\n",
       "      <th>8</th>\n",
       "      <td>15.340650</td>\n",
       "    </tr>\n",
       "    <tr>\n",
       "      <th>9</th>\n",
       "      <td>15.895474</td>\n",
       "    </tr>\n",
       "    <tr>\n",
       "      <th>10</th>\n",
       "      <td>20.197148</td>\n",
       "    </tr>\n",
       "    <tr>\n",
       "      <th>11</th>\n",
       "      <td>16.170638</td>\n",
       "    </tr>\n",
       "    <tr>\n",
       "      <th>12</th>\n",
       "      <td>15.887671</td>\n",
       "    </tr>\n",
       "    <tr>\n",
       "      <th>13</th>\n",
       "      <td>16.583536</td>\n",
       "    </tr>\n",
       "    <tr>\n",
       "      <th>14</th>\n",
       "      <td>16.773669</td>\n",
       "    </tr>\n",
       "    <tr>\n",
       "      <th>15</th>\n",
       "      <td>16.165037</td>\n",
       "    </tr>\n",
       "    <tr>\n",
       "      <th>16</th>\n",
       "      <td>17.665606</td>\n",
       "    </tr>\n",
       "    <tr>\n",
       "      <th>17</th>\n",
       "      <td>15.694469</td>\n",
       "    </tr>\n",
       "    <tr>\n",
       "      <th>18</th>\n",
       "      <td>19.310397</td>\n",
       "    </tr>\n",
       "    <tr>\n",
       "      <th>19</th>\n",
       "      <td>17.177343</td>\n",
       "    </tr>\n",
       "    <tr>\n",
       "      <th>20</th>\n",
       "      <td>16.473447</td>\n",
       "    </tr>\n",
       "    <tr>\n",
       "      <th>21</th>\n",
       "      <td>22.902379</td>\n",
       "    </tr>\n",
       "  </tbody>\n",
       "</table>\n",
       "</div>"
      ],
      "text/plain": [
       "              customer_order_count\n",
       "                              mean\n",
       "department_id                     \n",
       "1                        15.457838\n",
       "2                        17.277920\n",
       "3                        17.170395\n",
       "4                        17.811403\n",
       "5                        15.215751\n",
       "6                        16.439806\n",
       "7                        17.225802\n",
       "8                        15.340650\n",
       "9                        15.895474\n",
       "10                       20.197148\n",
       "11                       16.170638\n",
       "12                       15.887671\n",
       "13                       16.583536\n",
       "14                       16.773669\n",
       "15                       16.165037\n",
       "16                       17.665606\n",
       "17                       15.694469\n",
       "18                       19.310397\n",
       "19                       17.177343\n",
       "20                       16.473447\n",
       "21                       22.902379"
      ]
     },
     "execution_count": 4,
     "metadata": {},
     "output_type": "execute_result"
    }
   ],
   "source": [
    "# using groupby to find the mean of the department_id column with a customers order count\n",
    "\n",
    "ords_prods_merge.groupby('department_id').agg({'customer_order_count': ['mean']})"
   ]
  },
  {
   "cell_type": "markdown",
   "id": "2f4cf7e3-a679-4a56-96d5-15404035762c",
   "metadata": {},
   "source": [
    "# The minimum changes from a 14.8 to a 15.2 \n",
    "# The maximum changes from a 21.9 to a 22.9\n",
    "# The biggest increase is 6 from a 15.3 to a 16.4\n",
    "# The biggest decrease is 8 from a 16.4 to a 15.3\n",
    "# However overall the numbers stay very similar"
   ]
  },
  {
   "cell_type": "code",
   "execution_count": 5,
   "id": "a7daae37-9d43-4124-9f2b-bcbac20d9008",
   "metadata": {},
   "outputs": [
    {
     "name": "stderr",
     "output_type": "stream",
     "text": [
      "C:\\Users\\Layzr\\AppData\\Local\\Temp\\ipykernel_18788\\2981464315.py:3: FutureWarning: The provided callable <function max at 0x0000015FDF1371A0> is currently using SeriesGroupBy.max. In a future version of pandas, the provided callable will be used directly. To keep current behavior pass the string \"max\" instead.\n",
      "  ords_prods_merge['max_order'] = ords_prods_merge.groupby(['user_id'])['customer_order_count'].transform(np.max)\n"
     ]
    }
   ],
   "source": [
    "# creating the max_order column to find customer loyalty\n",
    "\n",
    "ords_prods_merge['max_order'] = ords_prods_merge.groupby(['user_id'])['customer_order_count'].transform(np.max)"
   ]
  },
  {
   "cell_type": "code",
   "execution_count": 6,
   "id": "e67bcbd3-fbef-47ee-b9e7-ef5a52f02e93",
   "metadata": {},
   "outputs": [],
   "source": [
    "# defining a customers loyalty\n",
    "\n",
    "ords_prods_merge.loc[ords_prods_merge['max_order'] > 40, 'loyalty_flag'] = 'Loyal customer'"
   ]
  },
  {
   "cell_type": "code",
   "execution_count": 7,
   "id": "ca09d351-8ddd-4a52-8db1-8221ac240847",
   "metadata": {},
   "outputs": [],
   "source": [
    "ords_prods_merge.loc[(ords_prods_merge['max_order'] <= 40) & (ords_prods_merge['max_order'] > 10), 'loyalty_flag'] = 'Regular customer'"
   ]
  },
  {
   "cell_type": "code",
   "execution_count": 8,
   "id": "9549f3f7-6dfa-44c9-9d63-90d0ddd89fde",
   "metadata": {},
   "outputs": [],
   "source": [
    "ords_prods_merge.loc[ords_prods_merge['max_order'] <= 10, 'loyalty_flag'] = 'New customer'"
   ]
  },
  {
   "cell_type": "code",
   "execution_count": 9,
   "id": "163a7a99-8f2e-4e4a-9a37-7ff9f2c08bca",
   "metadata": {},
   "outputs": [
    {
     "data": {
      "text/plain": [
       "loyalty_flag\n",
       "Loyal customer      10.386336\n",
       "New customer        13.294670\n",
       "Regular customer    12.495717\n",
       "Name: prices, dtype: float64"
      ]
     },
     "execution_count": 9,
     "metadata": {},
     "output_type": "execute_result"
    }
   ],
   "source": [
    "# Finding the spending habits for different customer types\n",
    "\n",
    "ords_prods_merge.groupby('loyalty_flag')['prices'].mean()"
   ]
  },
  {
   "cell_type": "markdown",
   "id": "d49b60df-5618-42ac-a0ae-ccc488aeefa4",
   "metadata": {},
   "source": [
    "# Loyal customers surprisingly have the lowest spending habits compared to New and Regular Customers with New Customers actually having the highest spending habits"
   ]
  },
  {
   "cell_type": "code",
   "execution_count": 10,
   "id": "469152b2-50ba-4414-872b-17a933e624db",
   "metadata": {},
   "outputs": [
    {
     "name": "stderr",
     "output_type": "stream",
     "text": [
      "C:\\Users\\Layzr\\AppData\\Local\\Temp\\ipykernel_18788\\245824298.py:3: FutureWarning: The provided callable <function mean at 0x0000015FDF137BA0> is currently using SeriesGroupBy.mean. In a future version of pandas, the provided callable will be used directly. To keep current behavior pass the string \"mean\" instead.\n",
      "  ords_prods_merge['user_average_spent'] = ords_prods_merge.groupby(['user_id'])['prices'].transform(np.mean)\n"
     ]
    }
   ],
   "source": [
    "# creating a spending flag\n",
    "\n",
    "ords_prods_merge['user_average_spent'] = ords_prods_merge.groupby(['user_id'])['prices'].transform(np.mean)"
   ]
  },
  {
   "cell_type": "code",
   "execution_count": 11,
   "id": "7aaf69fc-2280-4943-8643-806c52622074",
   "metadata": {},
   "outputs": [],
   "source": [
    "# defining high and low spenders\n",
    "\n",
    "ords_prods_merge.loc[ords_prods_merge['user_average_spent'] < 10, 'spending_flag'] = 'Low spender'"
   ]
  },
  {
   "cell_type": "code",
   "execution_count": 12,
   "id": "8dfb0b92-3bd1-40bf-bdd1-094faf69f7b9",
   "metadata": {},
   "outputs": [],
   "source": [
    "ords_prods_merge.loc[ords_prods_merge['user_average_spent'] >= 10, 'spending_flag'] = 'High spender'"
   ]
  },
  {
   "cell_type": "code",
   "execution_count": 13,
   "id": "b86d1bec-d0cd-45d5-b50f-da2cba0e12ff",
   "metadata": {},
   "outputs": [
    {
     "data": {
      "text/plain": [
       "spending_flag\n",
       "Low spender     31770614\n",
       "High spender      634245\n",
       "Name: count, dtype: int64"
      ]
     },
     "execution_count": 13,
     "metadata": {},
     "output_type": "execute_result"
    }
   ],
   "source": [
    "# checking frequency of the spending flag\n",
    "\n",
    "ords_prods_merge['spending_flag'].value_counts(dropna = False)"
   ]
  },
  {
   "cell_type": "code",
   "execution_count": 14,
   "id": "a96ce89a-b8c1-4a0d-a45d-909ca8c0969d",
   "metadata": {},
   "outputs": [
    {
     "name": "stderr",
     "output_type": "stream",
     "text": [
      "C:\\Users\\Layzr\\AppData\\Local\\Temp\\ipykernel_18788\\1076528360.py:3: FutureWarning: The provided callable <function median at 0x0000015FDF26A840> is currently using SeriesGroupBy.median. In a future version of pandas, the provided callable will be used directly. To keep current behavior pass the string \"median\" instead.\n",
      "  ords_prods_merge['user_medians'] = ords_prods_merge.groupby('user_id')['days_since_prior_order'].transform(np.median)\n"
     ]
    }
   ],
   "source": [
    "# creating a user purchase frequency flag\n",
    "\n",
    "ords_prods_merge['user_medians'] = ords_prods_merge.groupby('user_id')['days_since_prior_order'].transform(np.median)"
   ]
  },
  {
   "cell_type": "code",
   "execution_count": 15,
   "id": "a70285b6-504a-41ff-a06f-17b2800f635a",
   "metadata": {},
   "outputs": [],
   "source": [
    "# defining the user frequency flag\n",
    "\n",
    "ords_prods_merge.loc[ords_prods_merge['user_medians'] < 10, 'order_frequency_flag'] = 'Non-frequent customer'"
   ]
  },
  {
   "cell_type": "code",
   "execution_count": 16,
   "id": "b21b4019-e4fa-40a8-be8c-08511d961e4f",
   "metadata": {},
   "outputs": [],
   "source": [
    "ords_prods_merge.loc[ords_prods_merge['user_medians'] > 20, 'order_frequency_flag'] = 'Frequent customer'"
   ]
  },
  {
   "cell_type": "code",
   "execution_count": 17,
   "id": "32b5d8ff-e8b6-44f8-bc66-dd2f32dd617a",
   "metadata": {},
   "outputs": [],
   "source": [
    "ords_prods_merge.loc[(ords_prods_merge['user_medians'] > 10) & (ords_prods_merge['user_medians'] <= 20), 'order_frequency_flag'] = 'Regular Customer'"
   ]
  },
  {
   "cell_type": "code",
   "execution_count": 18,
   "id": "fa3bacee-cb08-4867-bbb9-fe796f35e390",
   "metadata": {},
   "outputs": [
    {
     "data": {
      "text/html": [
       "<div>\n",
       "<style scoped>\n",
       "    .dataframe tbody tr th:only-of-type {\n",
       "        vertical-align: middle;\n",
       "    }\n",
       "\n",
       "    .dataframe tbody tr th {\n",
       "        vertical-align: top;\n",
       "    }\n",
       "\n",
       "    .dataframe thead th {\n",
       "        text-align: right;\n",
       "    }\n",
       "</style>\n",
       "<table border=\"1\" class=\"dataframe\">\n",
       "  <thead>\n",
       "    <tr style=\"text-align: right;\">\n",
       "      <th></th>\n",
       "      <th>user_id</th>\n",
       "      <th>days_since_prior_order</th>\n",
       "      <th>user_medians</th>\n",
       "      <th>order_frequency_flag</th>\n",
       "    </tr>\n",
       "  </thead>\n",
       "  <tbody>\n",
       "    <tr>\n",
       "      <th>0</th>\n",
       "      <td>1</td>\n",
       "      <td>NaN</td>\n",
       "      <td>20.5</td>\n",
       "      <td>Frequent customer</td>\n",
       "    </tr>\n",
       "    <tr>\n",
       "      <th>1</th>\n",
       "      <td>1</td>\n",
       "      <td>NaN</td>\n",
       "      <td>20.5</td>\n",
       "      <td>Frequent customer</td>\n",
       "    </tr>\n",
       "    <tr>\n",
       "      <th>2</th>\n",
       "      <td>1</td>\n",
       "      <td>NaN</td>\n",
       "      <td>20.5</td>\n",
       "      <td>Frequent customer</td>\n",
       "    </tr>\n",
       "    <tr>\n",
       "      <th>3</th>\n",
       "      <td>1</td>\n",
       "      <td>NaN</td>\n",
       "      <td>20.5</td>\n",
       "      <td>Frequent customer</td>\n",
       "    </tr>\n",
       "    <tr>\n",
       "      <th>4</th>\n",
       "      <td>1</td>\n",
       "      <td>NaN</td>\n",
       "      <td>20.5</td>\n",
       "      <td>Frequent customer</td>\n",
       "    </tr>\n",
       "    <tr>\n",
       "      <th>5</th>\n",
       "      <td>1</td>\n",
       "      <td>15.0</td>\n",
       "      <td>20.5</td>\n",
       "      <td>Frequent customer</td>\n",
       "    </tr>\n",
       "    <tr>\n",
       "      <th>6</th>\n",
       "      <td>1</td>\n",
       "      <td>15.0</td>\n",
       "      <td>20.5</td>\n",
       "      <td>Frequent customer</td>\n",
       "    </tr>\n",
       "    <tr>\n",
       "      <th>7</th>\n",
       "      <td>1</td>\n",
       "      <td>15.0</td>\n",
       "      <td>20.5</td>\n",
       "      <td>Frequent customer</td>\n",
       "    </tr>\n",
       "    <tr>\n",
       "      <th>8</th>\n",
       "      <td>1</td>\n",
       "      <td>15.0</td>\n",
       "      <td>20.5</td>\n",
       "      <td>Frequent customer</td>\n",
       "    </tr>\n",
       "    <tr>\n",
       "      <th>9</th>\n",
       "      <td>1</td>\n",
       "      <td>15.0</td>\n",
       "      <td>20.5</td>\n",
       "      <td>Frequent customer</td>\n",
       "    </tr>\n",
       "  </tbody>\n",
       "</table>\n",
       "</div>"
      ],
      "text/plain": [
       "   user_id  days_since_prior_order  user_medians order_frequency_flag\n",
       "0        1                     NaN          20.5    Frequent customer\n",
       "1        1                     NaN          20.5    Frequent customer\n",
       "2        1                     NaN          20.5    Frequent customer\n",
       "3        1                     NaN          20.5    Frequent customer\n",
       "4        1                     NaN          20.5    Frequent customer\n",
       "5        1                    15.0          20.5    Frequent customer\n",
       "6        1                    15.0          20.5    Frequent customer\n",
       "7        1                    15.0          20.5    Frequent customer\n",
       "8        1                    15.0          20.5    Frequent customer\n",
       "9        1                    15.0          20.5    Frequent customer"
      ]
     },
     "execution_count": 18,
     "metadata": {},
     "output_type": "execute_result"
    }
   ],
   "source": [
    "# checking the order frequency flag\n",
    "\n",
    "ords_prods_merge[['user_id', 'days_since_prior_order', 'user_medians', 'order_frequency_flag']].head(10)"
   ]
  },
  {
   "cell_type": "code",
   "execution_count": 20,
   "id": "9423b6e0-951f-4635-b7ef-13d18ddbde02",
   "metadata": {},
   "outputs": [],
   "source": [
    "# changing all outlier prices to NaN\n",
    "\n",
    "ords_prods_merge.loc[ords_prods_merge['prices'] >100, 'prices'] = np.nan"
   ]
  },
  {
   "cell_type": "code",
   "execution_count": 21,
   "id": "8ffdc1d6-1bf8-40e4-9615-2b241ca1f82c",
   "metadata": {},
   "outputs": [],
   "source": [
    "ords_prods_merge.to_pickle(os.path.join(path, '02 Data','Prepared Data', 'ords_prods_merge_frequencies.pkl'))"
   ]
  }
 ],
 "metadata": {
  "kernelspec": {
   "display_name": "Python 3 (ipykernel)",
   "language": "python",
   "name": "python3"
  },
  "language_info": {
   "codemirror_mode": {
    "name": "ipython",
    "version": 3
   },
   "file_extension": ".py",
   "mimetype": "text/x-python",
   "name": "python",
   "nbconvert_exporter": "python",
   "pygments_lexer": "ipython3",
   "version": "3.12.7"
  }
 },
 "nbformat": 4,
 "nbformat_minor": 5
}
