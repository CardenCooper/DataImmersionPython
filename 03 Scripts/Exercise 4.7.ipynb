{
 "cells": [
  {
   "cell_type": "code",
   "execution_count": null,
   "id": "6250496d-e73b-4983-926c-737187c4cab6",
   "metadata": {},
   "outputs": [],
   "source": [
    "# Import libraries\n",
    "import pandas as pd\n",
    "import numpy as np\n",
    "import os"
   ]
  },
  {
   "cell_type": "code",
   "execution_count": null,
   "id": "eb53b2b5-cc32-41e4-821c-a1885a7f7445",
   "metadata": {},
   "outputs": [],
   "source": [
    "# data import path\n",
    "\n",
    "path  = r'C:\\Users\\Layzr\\Desktop\\School\\Data Immersion Part 4\\Achievement 4'"
   ]
  },
  {
   "cell_type": "code",
   "execution_count": null,
   "id": "3cdf2ecc-5e1a-4d6d-b0d8-5aed6881dca8",
   "metadata": {},
   "outputs": [],
   "source": [
    "ords_prods_merge = pd.read_pickle(os.path.join(path, '02 Data', 'Prepared Data', 'ords_prods_merge.pkl'))"
   ]
  },
  {
   "cell_type": "code",
   "execution_count": null,
   "id": "60c255d1-f5f1-4663-9cac-8ed487ba1b45",
   "metadata": {},
   "outputs": [],
   "source": [
    "df = ords_prods_merge[:1000000]"
   ]
  },
  {
   "cell_type": "code",
   "execution_count": null,
   "id": "33d6858e-82a4-4d87-b0eb-d9605b9977c8",
   "metadata": {},
   "outputs": [],
   "source": [
    "df.shape"
   ]
  },
  {
   "cell_type": "code",
   "execution_count": null,
   "id": "d74c4aef-b72a-400e-a7ba-e0339102c468",
   "metadata": {},
   "outputs": [],
   "source": [
    "# creating price labels\n",
    "\n",
    "def price_label(row):\n",
    "\n",
    "  if row['prices'] <= 5:\n",
    "    return 'Low-range product'\n",
    "  elif (row['prices'] > 5) and (row['prices'] <= 15):\n",
    "    return 'Mid-range product'\n",
    "  elif row['prices'] > 15:\n",
    "    return 'High range'\n",
    "  else: return 'Not enough data'"
   ]
  },
  {
   "cell_type": "code",
   "execution_count": null,
   "id": "f0fcb546-02ea-46fe-9303-776a7ce93265",
   "metadata": {},
   "outputs": [],
   "source": [
    "df['price_range'] = df.apply(price_label, axis=1)"
   ]
  },
  {
   "cell_type": "code",
   "execution_count": null,
   "id": "eeee51cb-6b65-40af-b3f6-23a98995724f",
   "metadata": {},
   "outputs": [],
   "source": [
    "df['price_range'].value_counts(dropna = False)"
   ]
  },
  {
   "cell_type": "code",
   "execution_count": null,
   "id": "0e98cc51-fe1b-496d-93ba-0778f6fc2c57",
   "metadata": {},
   "outputs": [],
   "source": [
    "df['prices'].max()"
   ]
  },
  {
   "cell_type": "code",
   "execution_count": null,
   "id": "194dd9e2-982f-4f62-95da-0be2314d6ade",
   "metadata": {},
   "outputs": [],
   "source": [
    "df.loc[df['prices'] > 15, 'price_range_loc'] = 'High-range product'"
   ]
  },
  {
   "cell_type": "code",
   "execution_count": null,
   "id": "3b26ae95-8ca8-4f3c-8995-0e3b4112ac09",
   "metadata": {},
   "outputs": [],
   "source": [
    "df.loc[(df['prices'] <= 15) & (df['prices'] > 5), 'price_range_loc'] = 'Mid-range product' "
   ]
  },
  {
   "cell_type": "code",
   "execution_count": null,
   "id": "d961b58b-c07e-4784-9e2d-5189e9124e6e",
   "metadata": {},
   "outputs": [],
   "source": [
    "df.loc[df['prices'] <= 5, 'price_range_loc'] = 'Low-range product'"
   ]
  },
  {
   "cell_type": "code",
   "execution_count": null,
   "id": "7ce0fe7c-8e52-42ee-b4a1-5c22d571e9b6",
   "metadata": {},
   "outputs": [],
   "source": [
    "df['price_range_loc'].value_counts(dropna = False)"
   ]
  },
  {
   "cell_type": "markdown",
   "id": "b80bd88f-6507-42ee-af21-1cb1b32c2ba8",
   "metadata": {},
   "source": [
    "# Using loc to set price range labels"
   ]
  },
  {
   "cell_type": "code",
   "execution_count": null,
   "id": "f71d9aec-f3b1-4583-ae8a-be39c5de5eb8",
   "metadata": {},
   "outputs": [],
   "source": [
    "ords_prods_merge.loc[ords_prods_merge['prices'] > 15, 'price_range_loc'] = 'High-range product'"
   ]
  },
  {
   "cell_type": "code",
   "execution_count": null,
   "id": "80f79799-b431-442b-96d8-0c7e45165863",
   "metadata": {},
   "outputs": [],
   "source": [
    "ords_prods_merge.loc[(ords_prods_merge['prices'] <= 15) & (ords_prods_merge['prices'] > 5), 'price_range_loc'] = 'Mid-range product'"
   ]
  },
  {
   "cell_type": "code",
   "execution_count": null,
   "id": "e42b02ab-b030-40eb-a330-b3f057dabaf9",
   "metadata": {},
   "outputs": [],
   "source": [
    "ords_prods_merge.loc[ords_prods_merge['prices'] <= 5, 'price_range_loc'] = 'Low-range product'"
   ]
  },
  {
   "cell_type": "code",
   "execution_count": null,
   "id": "065fbcad-0526-406a-89c8-55cfa4bd5c92",
   "metadata": {},
   "outputs": [],
   "source": [
    "ords_prods_merge['price_range_loc'].value_counts(dropna = False)"
   ]
  },
  {
   "cell_type": "code",
   "execution_count": null,
   "id": "37788fe3-d49e-45f4-b937-8e480fd09494",
   "metadata": {},
   "outputs": [],
   "source": [
    "ords_prods_merge['orders_day_of_week'].value_counts(dropna = False)"
   ]
  },
  {
   "cell_type": "code",
   "execution_count": null,
   "id": "b25b0b95-8e55-400d-a36c-8b364e6fa43e",
   "metadata": {},
   "outputs": [],
   "source": [
    "# creating column for busiest and least busy hour of the day\n",
    "\n",
    "result = []\n",
    "\n",
    "for value in ords_prods_merge[\"orders_day_of_week\"]:\n",
    "  if value == 0:\n",
    "    result.append(\"Busiest day\")\n",
    "  elif value == 4:\n",
    "    result.append(\"Least busy\")\n",
    "  else:\n",
    "    result.append(\"Regularly busy\")"
   ]
  },
  {
   "cell_type": "code",
   "execution_count": null,
   "id": "37a85520-100d-46ed-a1ce-9215178ec254",
   "metadata": {
    "scrolled": true
   },
   "outputs": [],
   "source": [
    "result"
   ]
  },
  {
   "cell_type": "code",
   "execution_count": null,
   "id": "64956e04-7528-4d16-a83f-549a04eef154",
   "metadata": {},
   "outputs": [],
   "source": [
    "ords_prods_merge['busiest_day'] = result"
   ]
  },
  {
   "cell_type": "code",
   "execution_count": null,
   "id": "2d2164b5-962d-48ef-be52-c038fe2bdc94",
   "metadata": {},
   "outputs": [],
   "source": [
    "ords_prods_merge['busiest_day'].value_counts(dropna = False)"
   ]
  },
  {
   "cell_type": "markdown",
   "id": "75a4c462-1706-4b1b-8708-e2e3d666d355",
   "metadata": {},
   "source": [
    "# Task"
   ]
  },
  {
   "cell_type": "code",
   "execution_count": null,
   "id": "4976c349-13b6-483e-92a4-dd9755ddbf29",
   "metadata": {},
   "outputs": [],
   "source": [
    "# Updating busiest day to the busiest 2 days\n",
    "\n",
    "result2 = []\n",
    "\n",
    "for value in ords_prods_merge[\"orders_day_of_week\"]:\n",
    "    if value == 0 or value == 1:\n",
    "        result2.append(\"Busiest day\")\n",
    "    elif value == 4 or value == 3:\n",
    "        result2.append(\"Least busy\")\n",
    "    else:\n",
    "        result2.append(\"Regularly busy\")"
   ]
  },
  {
   "cell_type": "code",
   "execution_count": null,
   "id": "f289bc64-9596-4fe9-9a66-dd64db37e3ea",
   "metadata": {
    "scrolled": true
   },
   "outputs": [],
   "source": [
    "result2"
   ]
  },
  {
   "cell_type": "code",
   "execution_count": null,
   "id": "3c85e554-fd0f-493e-8ebc-3ad445eb7a2c",
   "metadata": {},
   "outputs": [],
   "source": [
    "# adding busiest days as a new column to dataframe\n",
    "\n",
    "ords_prods_merge['busiest_days'] = result2"
   ]
  },
  {
   "cell_type": "code",
   "execution_count": null,
   "id": "27bd38d0-e3b1-4de1-b7fe-ef74c7e0d590",
   "metadata": {},
   "outputs": [],
   "source": [
    "ords_prods_merge['busiest_days'].value_counts(dropna = False)"
   ]
  },
  {
   "cell_type": "markdown",
   "id": "a96e8db4-ed73-40b1-86a2-428b05bdca07",
   "metadata": {},
   "source": [
    "# Busiest days only have 2 days but still nearly being as high as Regular busy days is quite telling of how much business the busy days get"
   ]
  },
  {
   "cell_type": "code",
   "execution_count": null,
   "id": "c8992aee-2d76-4555-916e-29467009a223",
   "metadata": {},
   "outputs": [],
   "source": [
    "ords_prods_merge.head()"
   ]
  },
  {
   "cell_type": "code",
   "execution_count": null,
   "id": "9227cad7-6066-42fa-8358-70c61bae837f",
   "metadata": {},
   "outputs": [],
   "source": [
    "# frequency check for hours of orders\n",
    "\n",
    "ords_prods_merge['order_hour_of_day'].value_counts(dropna = False)"
   ]
  },
  {
   "cell_type": "code",
   "execution_count": null,
   "id": "9fb0a492-7146-4e60-9f20-73e080f1b65c",
   "metadata": {},
   "outputs": [],
   "source": [
    "# creating column for busiest hours using the 6 busiest hours 6 least busy hours and the 12 average hours\n",
    "\n",
    "result3 = []\n",
    "\n",
    "for value in ords_prods_merge[\"order_hour_of_day\"]:\n",
    "    if 10 <= value <= 15:\n",
    "        result3.append(\"Most orders\")\n",
    "    elif 0 <= value <= 5:\n",
    "        result3.append(\"Fewest orders\")\n",
    "    else:\n",
    "        result3.append(\"Average orders\")"
   ]
  },
  {
   "cell_type": "code",
   "execution_count": null,
   "id": "10ff56a3-9f02-4f5c-93e7-c3b1670eb7cd",
   "metadata": {
    "scrolled": true
   },
   "outputs": [],
   "source": [
    "result3"
   ]
  },
  {
   "cell_type": "code",
   "execution_count": null,
   "id": "8d18ebbe-c843-4cbe-89ea-d5e1f703b457",
   "metadata": {},
   "outputs": [],
   "source": [
    "# adding the new column to the dataframe\n",
    "\n",
    "ords_prods_merge['busiest_hours_of_day'] = result3"
   ]
  },
  {
   "cell_type": "code",
   "execution_count": null,
   "id": "fcb9d091-ad7d-4421-b73f-3f8633e1eb54",
   "metadata": {},
   "outputs": [],
   "source": [
    "# frequency check for new column\n",
    "\n",
    "ords_prods_merge['busiest_hours_of_day'].value_counts(dropna = False)"
   ]
  },
  {
   "cell_type": "code",
   "execution_count": null,
   "id": "c5b30a53-0bb5-4593-801d-4b899515f494",
   "metadata": {},
   "outputs": [],
   "source": [
    "ords_prods_merge.to_pickle(os.path.join(path, '02 Data','Prepared Data', 'ords_prods_merge.pkl'))"
   ]
  }
 ],
 "metadata": {
  "kernelspec": {
   "display_name": "Python 3 (ipykernel)",
   "language": "python",
   "name": "python3"
  },
  "language_info": {
   "codemirror_mode": {
    "name": "ipython",
    "version": 3
   },
   "file_extension": ".py",
   "mimetype": "text/x-python",
   "name": "python",
   "nbconvert_exporter": "python",
   "pygments_lexer": "ipython3",
   "version": "3.12.7"
  }
 },
 "nbformat": 4,
 "nbformat_minor": 5
}
