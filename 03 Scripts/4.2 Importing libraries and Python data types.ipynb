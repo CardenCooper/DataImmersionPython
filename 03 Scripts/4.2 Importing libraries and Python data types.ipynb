{
 "cells": [
  {
   "cell_type": "code",
   "execution_count": 1,
   "id": "f46b58d1-f382-4d6f-915d-0310ae1c6851",
   "metadata": {},
   "outputs": [],
   "source": [
    "# Import libraries\n",
    "import pandas as pd\n",
    "import numpy as np\n",
    "import os"
   ]
  },
  {
   "cell_type": "markdown",
   "id": "0850d71c-0979-4939-8337-0273d8996c86",
   "metadata": {},
   "source": [
    "# Code"
   ]
  },
  {
   "cell_type": "code",
   "execution_count": 19,
   "id": "91968b63-246c-47be-abba-c580f8dae5f8",
   "metadata": {},
   "outputs": [],
   "source": [
    "x = 50"
   ]
  },
  {
   "cell_type": "code",
   "execution_count": 20,
   "id": "1f96b5dd-e309-40b5-898d-80c309d317d9",
   "metadata": {},
   "outputs": [],
   "source": [
    "y = 25"
   ]
  },
  {
   "cell_type": "code",
   "execution_count": 21,
   "id": "048f5d5b-dbeb-4f6e-a3a7-922c4ce4d113",
   "metadata": {},
   "outputs": [
    {
     "data": {
      "text/plain": [
       "100"
      ]
     },
     "execution_count": 21,
     "metadata": {},
     "output_type": "execute_result"
    }
   ],
   "source": [
    "x + x"
   ]
  },
  {
   "cell_type": "code",
   "execution_count": 22,
   "id": "fe899b8e-cc20-410f-98b1-5df680aa13c7",
   "metadata": {},
   "outputs": [
    {
     "data": {
      "text/plain": [
       "100"
      ]
     },
     "execution_count": 22,
     "metadata": {},
     "output_type": "execute_result"
    }
   ],
   "source": [
    "x + y + y"
   ]
  },
  {
   "cell_type": "code",
   "execution_count": 23,
   "id": "2be06240-5724-4c88-85e7-3c95874dec56",
   "metadata": {},
   "outputs": [
    {
     "data": {
      "text/plain": [
       "100"
      ]
     },
     "execution_count": 23,
     "metadata": {},
     "output_type": "execute_result"
    }
   ],
   "source": [
    "y + 75"
   ]
  },
  {
   "cell_type": "code",
   "execution_count": 24,
   "id": "749a0b3d-06ee-4097-b965-a45411858386",
   "metadata": {},
   "outputs": [],
   "source": [
    "xy = 15.12"
   ]
  },
  {
   "cell_type": "code",
   "execution_count": 26,
   "id": "8661058d-8e84-4419-a600-d53195552773",
   "metadata": {},
   "outputs": [],
   "source": [
    "z = 42.74"
   ]
  },
  {
   "cell_type": "code",
   "execution_count": 27,
   "id": "5c996221-da4e-4340-a629-dddb2d08e8a7",
   "metadata": {},
   "outputs": [
    {
     "data": {
      "text/plain": [
       "2.826719576719577"
      ]
     },
     "execution_count": 27,
     "metadata": {},
     "output_type": "execute_result"
    }
   ],
   "source": [
    "z / xy"
   ]
  },
  {
   "cell_type": "code",
   "execution_count": 29,
   "id": "32486e98-a244-4820-ae84-268d04cc3508",
   "metadata": {},
   "outputs": [],
   "source": [
    "a = 'basket'"
   ]
  },
  {
   "cell_type": "code",
   "execution_count": 30,
   "id": "de123897-1403-4c1c-b8c3-b4a07a198839",
   "metadata": {},
   "outputs": [],
   "source": [
    "b ='ball'"
   ]
  },
  {
   "cell_type": "code",
   "execution_count": 31,
   "id": "6f348ddc-eec3-4a21-9821-c8dbb8686f9e",
   "metadata": {},
   "outputs": [
    {
     "data": {
      "text/plain": [
       "'basketball'"
      ]
     },
     "execution_count": 31,
     "metadata": {},
     "output_type": "execute_result"
    }
   ],
   "source": [
    "a + b"
   ]
  },
  {
   "cell_type": "code",
   "execution_count": 35,
   "id": "014bb8eb-f0d0-48a1-87df-fae9c2626eeb",
   "metadata": {},
   "outputs": [],
   "source": [
    "c = 'Hello my name is '"
   ]
  },
  {
   "cell_type": "code",
   "execution_count": 33,
   "id": "faec3060-d09a-40c9-ac0a-5fb3899afd48",
   "metadata": {},
   "outputs": [],
   "source": [
    "d = 'Carden Cooper'"
   ]
  },
  {
   "cell_type": "code",
   "execution_count": 36,
   "id": "dd8724dd-d0df-4884-bfce-afa1c6fa610a",
   "metadata": {},
   "outputs": [
    {
     "data": {
      "text/plain": [
       "'Hello my name is Carden Cooper'"
      ]
     },
     "execution_count": 36,
     "metadata": {},
     "output_type": "execute_result"
    }
   ],
   "source": [
    "c + d"
   ]
  },
  {
   "cell_type": "code",
   "execution_count": null,
   "id": "91ce2869-b7d2-47a0-b604-7e4cb5f91775",
   "metadata": {},
   "outputs": [],
   "source": []
  }
 ],
 "metadata": {
  "kernelspec": {
   "display_name": "Python [conda env:base] *",
   "language": "python",
   "name": "conda-base-py"
  },
  "language_info": {
   "codemirror_mode": {
    "name": "ipython",
    "version": 3
   },
   "file_extension": ".py",
   "mimetype": "text/x-python",
   "name": "python",
   "nbconvert_exporter": "python",
   "pygments_lexer": "ipython3",
   "version": "3.12.7"
  }
 },
 "nbformat": 4,
 "nbformat_minor": 5
}
